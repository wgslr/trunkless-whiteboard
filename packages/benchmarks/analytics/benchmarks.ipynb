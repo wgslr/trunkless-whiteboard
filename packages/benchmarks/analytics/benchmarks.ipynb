{
 "cells": [
  {
   "cell_type": "markdown",
   "metadata": {},
   "source": [
    "# Benchmark analysis"
   ]
  },
  {
   "cell_type": "markdown",
   "metadata": {},
   "source": [
    "**Note**: a local instance of the server needs to run for the execution of the benchmarks script.\n",
    "\n",
    "Run the cell below to perform a round of benchmarks."
   ]
  },
  {
   "cell_type": "code",
   "execution_count": null,
   "metadata": {},
   "outputs": [],
   "source": [
    "SIMULATED_CLIENT_COUNT = 5\n",
    "ANALYTICS_FILE = 'out.csv'\n",
    "ANALYTICS_FOLDER = 'analytics'\n",
    "\n",
    "from os import path\n",
    "!yarn benchmark {SIMULATED_CLIENT_COUNT} {path.join(ANALYTICS_FOLDER, ANALYTICS_FILE)}"
   ]
  },
  {
   "cell_type": "code",
   "execution_count": null,
   "metadata": {},
   "outputs": [],
   "source": [
    "import pandas as pd\n",
    "import matplotlib.pyplot as plt\n",
    "import seaborn as sns\n",
    "import numpy as np"
   ]
  },
  {
   "cell_type": "code",
   "execution_count": null,
   "metadata": {},
   "outputs": [],
   "source": [
    "sns.set(rc={'figure.figsize': (16, 8)})"
   ]
  },
  {
   "cell_type": "code",
   "execution_count": null,
   "metadata": {},
   "outputs": [],
   "source": [
    "ANALYTICS_FILE = 'out.csv'\n",
    "\n",
    "df = pd.read_csv(ANALYTICS_FILE)\n",
    "df.set_index('t', inplace=True)\n",
    "\n",
    "diffs = df.index[1:] - df.index[:len(df.index)-1]\n",
    "diffs = pd.concat([pd.Series([0]), pd.Series(diffs)])\n",
    "df['diff'] = diffs.to_numpy()\n",
    "\n",
    "df.describe()"
   ]
  },
  {
   "cell_type": "markdown",
   "metadata": {},
   "source": [
    "### Pruning\n",
    "\n",
    "We prune the dataset to only include the 75th percentile of certain dimensions.\n",
    "This removes the largest outliers, which skews the whole graph.\n",
    "\n",
    "The 75th percentiles were chosen as they still allow for a general trend to be seen, without seeing extremes."
   ]
  },
  {
   "cell_type": "code",
   "execution_count": null,
   "metadata": {},
   "outputs": [],
   "source": [
    "percentile_75 = 424\n",
    "df = df.loc[df['diff'] < percentile_75]\n",
    "\n",
    "percentile_75 = 26310\n",
    "df = df.loc[df['latency_avg'] < percentile_75]\n",
    "\n",
    "percentile_75 = 50000\n",
    "df = df.loc[df['latency_max'] < percentile_75]"
   ]
  },
  {
   "cell_type": "code",
   "execution_count": null,
   "metadata": {},
   "outputs": [],
   "source": [
    "latency_columns = ['latency_min', 'latency_avg', 'latency_max']\n",
    "latency_df = df[latency_columns]\n",
    "latency_df.plot(\n",
    "    linestyle='None',\n",
    "    marker='.',\n",
    "    xlabel='Elapsed time (μs)',\n",
    "    ylabel='Latency value (μs)',\n",
    ")\n",
    "plt.legend([\n",
    "    'Minimum latency',\n",
    "    'Maximum latency',\n",
    "    'Mean latency',\n",
    "])\n",
    "\n",
    "for column, color in zip(latency_columns, ['red', 'purple', 'black']):\n",
    "    z = np.polyfit(df.index, df[column], 1)\n",
    "    p = np.poly1d(z)\n",
    "    plt.plot(\n",
    "        df.index,\n",
    "        p(df.index),\n",
    "        color=color,\n",
    "        linestyle='--',\n",
    "        linewidth=3,\n",
    "    )\n",
    "\n",
    "plt.savefig(\n",
    "    fname='latency.jpg',\n",
    "    dpi=100,\n",
    ")"
   ]
  },
  {
   "cell_type": "code",
   "execution_count": null,
   "metadata": {},
   "outputs": [],
   "source": [
    "buffer_df = df[['buffer_min', 'buffer_max', 'buffer_avg']]\n",
    "buffer_df.plot(\n",
    "    figsize=(16, 3),\n",
    "    linestyle='None',\n",
    "    marker='.',\n",
    "    xlabel='Elapsed time (ms)',\n",
    "    ylabel='Buffer size',\n",
    ")\n",
    "plt.legend([\n",
    "    'Minimum buffer size',\n",
    "    'Maximum buffer size',\n",
    "    'Mean buffer size',\n",
    "])\n",
    "\n",
    "plt.savefig(\n",
    "    fname='buffer_size.jpg',\n",
    "    dpi=100,\n",
    ")"
   ]
  }
 ],
 "metadata": {
  "kernelspec": {
   "display_name": "Python 3 (ipykernel)",
   "language": "python",
   "name": "python3"
  },
  "language_info": {
   "codemirror_mode": {
    "name": "ipython",
    "version": 3
   },
   "file_extension": ".py",
   "mimetype": "text/x-python",
   "name": "python",
   "nbconvert_exporter": "python",
   "pygments_lexer": "ipython3",
   "version": "3.9.7"
  }
 },
 "nbformat": 4,
 "nbformat_minor": 4
}
